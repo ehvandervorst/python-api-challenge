{
 "cells": [
  {
   "cell_type": "markdown",
   "metadata": {},
   "source": [
    "# WeatherPy\n",
    "----\n",
    "\n",
    "#### Note\n",
    "* Instructions have been included for each segment. You do not have to follow them exactly, but they are included to help you think through the steps."
   ]
  },
  {
   "cell_type": "code",
   "execution_count": 16,
   "metadata": {},
   "outputs": [
    {
     "name": "stdout",
     "output_type": "stream",
     "text": [
      "Requirement already satisfied: citipy in c:\\users\\eherrity\\anaconda3\\envs\\pythondata\\lib\\site-packages (0.0.5)\n",
      "Requirement already satisfied: kdtree>=0.12 in c:\\users\\eherrity\\anaconda3\\envs\\pythondata\\lib\\site-packages (from citipy) (0.16)\n",
      "Note: you may need to restart the kernel to use updated packages.\n"
     ]
    }
   ],
   "source": [
    "pip install citipy"
   ]
  },
  {
   "cell_type": "code",
   "execution_count": 158,
   "metadata": {
    "scrolled": true
   },
   "outputs": [],
   "source": [
    "#Dependencies and Setup\n",
    "import matplotlib.pyplot as plt\n",
    "import numpy as np\n",
    "import pandas as pd\n",
    "from scipy.stats import linregress\n",
    "import requests\n",
    "import json\n",
    "import time\n",
    "from pprint import pprint\n",
    "from citipy import citipy"
   ]
  },
  {
   "cell_type": "markdown",
   "metadata": {},
   "source": [
    "## Generate Cities List"
   ]
  },
  {
   "cell_type": "code",
   "execution_count": 168,
   "metadata": {},
   "outputs": [
    {
     "data": {
      "text/html": [
       "<div>\n",
       "<style scoped>\n",
       "    .dataframe tbody tr th:only-of-type {\n",
       "        vertical-align: middle;\n",
       "    }\n",
       "\n",
       "    .dataframe tbody tr th {\n",
       "        vertical-align: top;\n",
       "    }\n",
       "\n",
       "    .dataframe thead th {\n",
       "        text-align: right;\n",
       "    }\n",
       "</style>\n",
       "<table border=\"1\" class=\"dataframe\">\n",
       "  <thead>\n",
       "    <tr style=\"text-align: right;\">\n",
       "      <th></th>\n",
       "      <th>lon</th>\n",
       "      <th>lat</th>\n",
       "    </tr>\n",
       "  </thead>\n",
       "  <tbody>\n",
       "    <tr>\n",
       "      <th>0</th>\n",
       "      <td>118.379643</td>\n",
       "      <td>-57.746621</td>\n",
       "    </tr>\n",
       "    <tr>\n",
       "      <th>1</th>\n",
       "      <td>14.609284</td>\n",
       "      <td>24.948790</td>\n",
       "    </tr>\n",
       "    <tr>\n",
       "      <th>2</th>\n",
       "      <td>165.333589</td>\n",
       "      <td>89.449839</td>\n",
       "    </tr>\n",
       "    <tr>\n",
       "      <th>3</th>\n",
       "      <td>-64.763814</td>\n",
       "      <td>-45.216887</td>\n",
       "    </tr>\n",
       "    <tr>\n",
       "      <th>4</th>\n",
       "      <td>160.879525</td>\n",
       "      <td>33.043693</td>\n",
       "    </tr>\n",
       "  </tbody>\n",
       "</table>\n",
       "</div>"
      ],
      "text/plain": [
       "          lon        lat\n",
       "0  118.379643 -57.746621\n",
       "1   14.609284  24.948790\n",
       "2  165.333589  89.449839\n",
       "3  -64.763814 -45.216887\n",
       "4  160.879525  33.043693"
      ]
     },
     "execution_count": 168,
     "metadata": {},
     "output_type": "execute_result"
    }
   ],
   "source": [
    "#Generate random lat and lon\n",
    "cities_df=pd.DataFrame({\"lon\":(np.random.uniform(-1.8,1.8,1500)*100), \"lat\":(np.random.uniform(-0.9,0.9,1500)*100)})\n",
    "\n",
    "cities_df.head()"
   ]
  },
  {
   "cell_type": "code",
   "execution_count": 169,
   "metadata": {},
   "outputs": [
    {
     "data": {
      "text/html": [
       "<div>\n",
       "<style scoped>\n",
       "    .dataframe tbody tr th:only-of-type {\n",
       "        vertical-align: middle;\n",
       "    }\n",
       "\n",
       "    .dataframe tbody tr th {\n",
       "        vertical-align: top;\n",
       "    }\n",
       "\n",
       "    .dataframe thead th {\n",
       "        text-align: right;\n",
       "    }\n",
       "</style>\n",
       "<table border=\"1\" class=\"dataframe\">\n",
       "  <thead>\n",
       "    <tr style=\"text-align: right;\">\n",
       "      <th></th>\n",
       "      <th>lon</th>\n",
       "      <th>lat</th>\n",
       "      <th>City</th>\n",
       "      <th>Country</th>\n",
       "    </tr>\n",
       "  </thead>\n",
       "  <tbody>\n",
       "    <tr>\n",
       "      <th>0</th>\n",
       "      <td>118.379643</td>\n",
       "      <td>-57.746621</td>\n",
       "      <td>albany</td>\n",
       "      <td>au</td>\n",
       "    </tr>\n",
       "    <tr>\n",
       "      <th>1</th>\n",
       "      <td>14.609284</td>\n",
       "      <td>24.948790</td>\n",
       "      <td>marzuq</td>\n",
       "      <td>ly</td>\n",
       "    </tr>\n",
       "    <tr>\n",
       "      <th>2</th>\n",
       "      <td>165.333589</td>\n",
       "      <td>89.449839</td>\n",
       "      <td>pevek</td>\n",
       "      <td>ru</td>\n",
       "    </tr>\n",
       "    <tr>\n",
       "      <th>3</th>\n",
       "      <td>-64.763814</td>\n",
       "      <td>-45.216887</td>\n",
       "      <td>rawson</td>\n",
       "      <td>ar</td>\n",
       "    </tr>\n",
       "    <tr>\n",
       "      <th>4</th>\n",
       "      <td>160.879525</td>\n",
       "      <td>33.043693</td>\n",
       "      <td>sentyabrskiy</td>\n",
       "      <td>ru</td>\n",
       "    </tr>\n",
       "  </tbody>\n",
       "</table>\n",
       "</div>"
      ],
      "text/plain": [
       "          lon        lat          City Country\n",
       "0  118.379643 -57.746621        albany      au\n",
       "1   14.609284  24.948790        marzuq      ly\n",
       "2  165.333589  89.449839         pevek      ru\n",
       "3  -64.763814 -45.216887        rawson      ar\n",
       "4  160.879525  33.043693  sentyabrskiy      ru"
      ]
     },
     "execution_count": 169,
     "metadata": {},
     "output_type": "execute_result"
    }
   ],
   "source": [
    "#Lists for holding country codes and cities\n",
    "ctry_code = []\n",
    "cities = []\n",
    "\n",
    "#City nearest each coordinate\n",
    "for i in range(0,len(cities_df['lat'])):\n",
    "    lat=cities_df.iloc[i]['lat']\n",
    "    lon=cities_df.iloc[i]['lon']\n",
    "    city=citipy.nearest_city(lat,lon)\n",
    "    name=city.city_name\n",
    "    cities.append(name)\n",
    "    country=city.country_code\n",
    "    ctry_code.append(country)\n",
    "    \n",
    "#Add new info to existing dataframe\n",
    "cities_df['City']=cities\n",
    "cities_df['Country']=ctry_code\n",
    "cities_df.head()"
   ]
  },
  {
   "cell_type": "code",
   "execution_count": 170,
   "metadata": {},
   "outputs": [
    {
     "data": {
      "text/plain": [
       "576"
      ]
     },
     "execution_count": 170,
     "metadata": {},
     "output_type": "execute_result"
    }
   ],
   "source": [
    "#Remove duplicate cities\n",
    "city_list = cities_df.drop_duplicates(\"City\", keep='first')\n",
    "len(city_list)"
   ]
  },
  {
   "cell_type": "markdown",
   "metadata": {},
   "source": [
    "### Perform API Calls\n",
    "* Perform a weather check on each city using a series of successive API calls.\n",
    "* Include a print log of each city as it'sbeing processed (with the city number and city name).\n"
   ]
  },
  {
   "cell_type": "code",
   "execution_count": 171,
   "metadata": {
    "scrolled": true
   },
   "outputs": [],
   "source": [
    "#Create lists to hold data\n",
    "cities = city_list['City']\n",
    "name = []\n",
    "humidity = []\n",
    "maxt = []\n",
    "cloud = []\n",
    "wind = []\n",
    "date = []\n",
    "country = []\n",
    "lat = []\n",
    "lon = []\n",
    "\n",
    "#Create variable for adding city number\n",
    "item = 1"
   ]
  },
  {
   "cell_type": "code",
   "execution_count": 172,
   "metadata": {},
   "outputs": [
    {
     "name": "stdout",
     "output_type": "stream",
     "text": [
      "Retreiving results for city 1, albany.\n",
      "Retreiving results for city 2, marzuq.\n",
      "Retreiving results for city 3, pevek.\n",
      "Retreiving results for city 4, rawson.\n",
      "Retreiving results for city 5, sentyabrskiy.\n",
      "City sentyabrskiy not found.\n",
      "Retreiving results for city 5, rikitea.\n",
      "Retreiving results for city 6, karratha.\n",
      "Retreiving results for city 7, batagay-alyta.\n",
      "Retreiving results for city 8, monte alegre.\n",
      "Retreiving results for city 9, bambous virieux.\n",
      "Retreiving results for city 10, airai.\n",
      "Retreiving results for city 11, ligayan.\n",
      "Retreiving results for city 12, puerto ayora.\n",
      "Retreiving results for city 13, whitecourt.\n",
      "Retreiving results for city 14, carupano.\n",
      "Retreiving results for city 15, kapaa.\n",
      "Retreiving results for city 16, punta arenas.\n",
      "Retreiving results for city 17, mahebourg.\n",
      "Retreiving results for city 18, ushuaia.\n",
      "Retreiving results for city 19, rungata.\n",
      "City rungata not found.\n",
      "Retreiving results for city 19, manokwari.\n",
      "Retreiving results for city 20, caravelas.\n",
      "Retreiving results for city 21, vaini.\n",
      "Retreiving results for city 22, pangody.\n",
      "Retreiving results for city 23, taolanaro.\n",
      "City taolanaro not found.\n",
      "Retreiving results for city 23, wellington.\n",
      "Retreiving results for city 24, mataram.\n",
      "Retreiving results for city 25, barrow.\n",
      "Retreiving results for city 26, okhotsk.\n",
      "Retreiving results for city 27, mayo.\n",
      "Retreiving results for city 28, taoudenni.\n",
      "Retreiving results for city 29, avarua.\n",
      "Retreiving results for city 30, kuching.\n",
      "Retreiving results for city 31, tasiilaq.\n",
      "Retreiving results for city 32, mar del plata.\n",
      "Retreiving results for city 33, ilulissat.\n",
      "Retreiving results for city 34, nuuk.\n",
      "Retreiving results for city 35, illoqqortoormiut.\n",
      "City illoqqortoormiut not found.\n",
      "Retreiving results for city 35, hilo.\n",
      "Retreiving results for city 36, aksarka.\n",
      "Retreiving results for city 37, port elizabeth.\n",
      "Retreiving results for city 38, atuona.\n",
      "Retreiving results for city 39, kerteh.\n",
      "City kerteh not found.\n",
      "Retreiving results for city 39, busselton.\n",
      "Retreiving results for city 40, taywarah.\n",
      "Retreiving results for city 41, hobart.\n",
      "Retreiving results for city 42, solnechnyy.\n",
      "Retreiving results for city 43, letterkenny.\n",
      "Retreiving results for city 44, tautira.\n",
      "Retreiving results for city 45, daru.\n",
      "Retreiving results for city 46, provideniya.\n",
      "Retreiving results for city 47, fatsa.\n",
      "Retreiving results for city 48, qaanaaq.\n",
      "Retreiving results for city 49, balkhash.\n",
      "Retreiving results for city 50, saryshagan.\n",
      "City saryshagan not found.\n",
      "Retreiving results for city 50, kaitangata.\n",
      "Retreiving results for city 51, attawapiskat.\n",
      "City attawapiskat not found.\n",
      "Retreiving results for city 51, bulungu.\n",
      "Retreiving results for city 52, bluff.\n",
      "Retreiving results for city 53, esperance.\n",
      "Retreiving results for city 54, ostrovnoy.\n",
      "Retreiving results for city 55, port blair.\n",
      "Retreiving results for city 56, ibia.\n",
      "Retreiving results for city 57, axim.\n",
      "Retreiving results for city 58, aflu.\n",
      "City aflu not found.\n",
      "Retreiving results for city 58, castro.\n",
      "Retreiving results for city 59, cape town.\n",
      "Retreiving results for city 60, butaritari.\n",
      "Retreiving results for city 61, leh.\n",
      "Retreiving results for city 62, kondoa.\n",
      "Retreiving results for city 63, saint george.\n",
      "Retreiving results for city 64, bahia blanca.\n",
      "Retreiving results for city 65, tumannyy.\n",
      "City tumannyy not found.\n",
      "Retreiving results for city 65, nanortalik.\n",
      "Retreiving results for city 66, kavaratti.\n",
      "Retreiving results for city 67, zhigansk.\n",
      "Retreiving results for city 68, carnarvon.\n",
      "Retreiving results for city 69, yuzhnyy.\n",
      "Retreiving results for city 70, tam ky.\n",
      "Retreiving results for city 71, kruisfontein.\n",
      "Retreiving results for city 72, georgetown.\n",
      "Retreiving results for city 73, la ronge.\n",
      "Retreiving results for city 74, buqayq.\n",
      "City buqayq not found.\n",
      "Retreiving results for city 74, alekseyevskoye.\n",
      "Retreiving results for city 75, mount isa.\n",
      "Retreiving results for city 76, misratah.\n",
      "Retreiving results for city 77, nikolskoye.\n",
      "Retreiving results for city 78, upernavik.\n",
      "Retreiving results for city 79, pasighat.\n",
      "Retreiving results for city 80, longyearbyen.\n",
      "Retreiving results for city 81, bredasdorp.\n",
      "Retreiving results for city 82, ngukurr.\n",
      "City ngukurr not found.\n",
      "Retreiving results for city 82, yilan.\n",
      "Retreiving results for city 83, mataura.\n",
      "Retreiving results for city 84, yulara.\n",
      "Retreiving results for city 85, isetskoye.\n",
      "Retreiving results for city 86, gushikawa.\n",
      "Retreiving results for city 87, tuktoyaktuk.\n",
      "Retreiving results for city 88, lebanon.\n",
      "Retreiving results for city 89, billings.\n",
      "Retreiving results for city 90, pryozerne.\n",
      "Retreiving results for city 91, komsomolskiy.\n",
      "Retreiving results for city 92, fenelon falls.\n",
      "Retreiving results for city 93, thompson.\n",
      "Retreiving results for city 94, xichang.\n",
      "Retreiving results for city 95, general pico.\n",
      "Retreiving results for city 96, pospelikha.\n",
      "Retreiving results for city 97, haines junction.\n",
      "Retreiving results for city 98, baruun-urt.\n",
      "Retreiving results for city 99, mys shmidta.\n",
      "City mys shmidta not found.\n",
      "Retreiving results for city 99, constitucion.\n",
      "Retreiving results for city 100, belushya guba.\n",
      "City belushya guba not found.\n",
      "Retreiving results for city 100, bethel.\n",
      "Retreiving results for city 101, san cristobal.\n",
      "Retreiving results for city 102, dikson.\n",
      "Retreiving results for city 103, vao.\n",
      "Retreiving results for city 104, coihaique.\n",
      "Retreiving results for city 105, santo antonio de jesus.\n",
      "Retreiving results for city 106, cayenne.\n",
      "Retreiving results for city 107, walcz.\n",
      "Retreiving results for city 108, mafinga.\n",
      "Retreiving results for city 109, gamba.\n",
      "Retreiving results for city 110, kroya.\n",
      "Retreiving results for city 111, petrov val.\n",
      "Retreiving results for city 112, sinnamary.\n",
      "Retreiving results for city 113, boshan.\n",
      "Retreiving results for city 114, marienburg.\n",
      "Retreiving results for city 115, avera.\n",
      "Retreiving results for city 116, launceston.\n",
      "Retreiving results for city 117, burdur.\n",
      "Retreiving results for city 118, tiksi.\n",
      "Retreiving results for city 119, kavieng.\n",
      "Retreiving results for city 120, pastavy.\n",
      "Retreiving results for city 121, barentsburg.\n",
      "City barentsburg not found.\n",
      "Retreiving results for city 121, opuwo.\n",
      "Retreiving results for city 122, pangnirtung.\n",
      "Retreiving results for city 123, maple creek.\n",
      "Retreiving results for city 124, lamin.\n",
      "Retreiving results for city 125, lilongwe.\n",
      "Retreiving results for city 126, kenitra.\n",
      "Retreiving results for city 127, lebu.\n",
      "Retreiving results for city 128, porto nacional.\n",
      "Retreiving results for city 129, tsihombe.\n",
      "City tsihombe not found.\n",
      "Retreiving results for city 129, petrozavodsk.\n",
      "Retreiving results for city 130, bonavista.\n",
      "Retreiving results for city 131, dakar.\n",
      "Retreiving results for city 132, arraial do cabo.\n",
      "Retreiving results for city 133, mitzic.\n",
      "Retreiving results for city 134, saint-augustin.\n",
      "Retreiving results for city 135, paraiso.\n",
      "Retreiving results for city 136, vostok.\n",
      "Retreiving results for city 137, karaul.\n",
      "City karaul not found.\n",
      "Retreiving results for city 137, isabela.\n",
      "Retreiving results for city 138, jamestown.\n",
      "Retreiving results for city 139, saint-philippe.\n",
      "Retreiving results for city 140, east london.\n",
      "Retreiving results for city 141, aklavik.\n",
      "Retreiving results for city 142, kodiak.\n",
      "Retreiving results for city 143, necochea.\n",
      "Retreiving results for city 144, srednekolymsk.\n",
      "Retreiving results for city 145, dutse.\n",
      "Retreiving results for city 146, fort nelson.\n",
      "Retreiving results for city 147, whangamata.\n",
      "Retreiving results for city 148, katsuura.\n",
      "Retreiving results for city 149, tuensang.\n",
      "Retreiving results for city 150, nome.\n",
      "Retreiving results for city 151, labuhan.\n",
      "Retreiving results for city 152, california city.\n",
      "Retreiving results for city 153, puerto del rosario.\n",
      "Retreiving results for city 154, humaita.\n",
      "Retreiving results for city 155, hamilton.\n",
      "Retreiving results for city 156, torbay.\n",
      "Retreiving results for city 157, awjilah.\n",
      "Retreiving results for city 158, wulanhaote.\n",
      "City wulanhaote not found.\n",
      "Retreiving results for city 158, itoman.\n",
      "Retreiving results for city 159, tabuk.\n",
      "Retreiving results for city 160, mrirt.\n",
      "City mrirt not found.\n",
      "Retreiving results for city 160, teguise.\n",
      "Retreiving results for city 161, namie.\n",
      "Retreiving results for city 162, oume.\n",
      "Retreiving results for city 163, djambala.\n"
     ]
    },
    {
     "name": "stdout",
     "output_type": "stream",
     "text": [
      "Retreiving results for city 164, amderma.\n",
      "City amderma not found.\n",
      "Retreiving results for city 164, codrington.\n",
      "Retreiving results for city 165, laguna.\n",
      "Retreiving results for city 166, lompoc.\n",
      "Retreiving results for city 167, padang.\n",
      "Retreiving results for city 168, hasaki.\n",
      "Retreiving results for city 169, bolungarvik.\n",
      "City bolungarvik not found.\n",
      "Retreiving results for city 169, tezu.\n",
      "Retreiving results for city 170, faanui.\n",
      "Retreiving results for city 171, talnakh.\n",
      "Retreiving results for city 172, qandala.\n",
      "Retreiving results for city 173, sao joao da barra.\n",
      "Retreiving results for city 174, chokwe.\n",
      "Retreiving results for city 175, sao filipe.\n",
      "Retreiving results for city 176, bengkulu.\n",
      "Retreiving results for city 177, aswan.\n",
      "Retreiving results for city 178, gurupa.\n",
      "Retreiving results for city 179, jati.\n",
      "Retreiving results for city 180, ambulu.\n",
      "Retreiving results for city 181, umzimvubu.\n",
      "City umzimvubu not found.\n",
      "Retreiving results for city 181, port alfred.\n",
      "Retreiving results for city 182, ponta delgada.\n",
      "Retreiving results for city 183, kharabali.\n",
      "Retreiving results for city 184, babu.\n",
      "Retreiving results for city 185, sorland.\n",
      "Retreiving results for city 186, hermanus.\n",
      "Retreiving results for city 187, severo-kurilsk.\n",
      "Retreiving results for city 188, namibe.\n",
      "Retreiving results for city 189, touros.\n",
      "Retreiving results for city 190, moranbah.\n",
      "Retreiving results for city 191, margate.\n",
      "Retreiving results for city 192, clyde river.\n",
      "Retreiving results for city 193, robore.\n",
      "Retreiving results for city 194, comodoro rivadavia.\n",
      "Retreiving results for city 195, saint-francois.\n",
      "Retreiving results for city 196, cidreira.\n",
      "Retreiving results for city 197, lander.\n",
      "Retreiving results for city 198, ponta do sol.\n",
      "Retreiving results for city 199, hithadhoo.\n",
      "Retreiving results for city 200, asasa.\n",
      "Retreiving results for city 201, mocuba.\n",
      "Retreiving results for city 202, acajutla.\n",
      "Retreiving results for city 203, husavik.\n",
      "Retreiving results for city 204, saskylakh.\n",
      "Retreiving results for city 205, cherskiy.\n",
      "Retreiving results for city 206, parambu.\n",
      "Retreiving results for city 207, mutsamudu.\n",
      "City mutsamudu not found.\n",
      "Retreiving results for city 207, larap.\n",
      "Retreiving results for city 208, bud.\n",
      "Retreiving results for city 209, flinders.\n",
      "Retreiving results for city 210, xining.\n",
      "Retreiving results for city 211, sangar.\n",
      "Retreiving results for city 212, malakal.\n",
      "Retreiving results for city 213, tual.\n",
      "Retreiving results for city 214, chuy.\n",
      "Retreiving results for city 215, san patricio.\n",
      "Retreiving results for city 216, governador dix-sept rosado.\n",
      "Retreiving results for city 217, tabou.\n",
      "Retreiving results for city 218, san rafael.\n",
      "Retreiving results for city 219, nalut.\n",
      "Retreiving results for city 220, ribeira grande.\n",
      "Retreiving results for city 221, eyl.\n",
      "Retreiving results for city 222, new norfolk.\n",
      "Retreiving results for city 223, santa rosa.\n",
      "Retreiving results for city 224, cabo san lucas.\n",
      "Retreiving results for city 225, msanga.\n",
      "Retreiving results for city 226, chamonix-mont-blanc.\n",
      "Retreiving results for city 227, cassilandia.\n",
      "Retreiving results for city 228, northam.\n",
      "Retreiving results for city 229, angoram.\n",
      "Retreiving results for city 230, umm lajj.\n",
      "Retreiving results for city 231, barawe.\n",
      "City barawe not found.\n",
      "Retreiving results for city 231, richards bay.\n",
      "Retreiving results for city 232, farim.\n",
      "Retreiving results for city 233, bichena.\n",
      "Retreiving results for city 234, yellowknife.\n",
      "Retreiving results for city 235, viedma.\n",
      "Retreiving results for city 236, nipawin.\n",
      "Retreiving results for city 237, sayansk.\n",
      "Retreiving results for city 238, itarema.\n",
      "Retreiving results for city 239, araouane.\n",
      "Retreiving results for city 240, vila franca do campo.\n",
      "Retreiving results for city 241, bandarbeyla.\n",
      "Retreiving results for city 242, gazojak.\n",
      "Retreiving results for city 243, troitsko-pechorsk.\n",
      "Retreiving results for city 244, zhangjiakou.\n",
      "Retreiving results for city 245, labutta.\n",
      "City labutta not found.\n",
      "Retreiving results for city 245, petropavlovsk-kamchatskiy.\n",
      "Retreiving results for city 246, abrau-dyurso.\n",
      "Retreiving results for city 247, tiznit.\n",
      "Retreiving results for city 248, ugep.\n",
      "Retreiving results for city 249, nizhneyansk.\n",
      "City nizhneyansk not found.\n",
      "Retreiving results for city 249, grindavik.\n",
      "Retreiving results for city 250, yichun.\n",
      "Retreiving results for city 251, bathsheba.\n",
      "Retreiving results for city 252, alice springs.\n",
      "Retreiving results for city 253, ribeirao do pinhal.\n",
      "City ribeirao do pinhal not found.\n",
      "Retreiving results for city 253, san carlos de bariloche.\n",
      "Retreiving results for city 254, westport.\n",
      "Retreiving results for city 255, kazalinsk.\n",
      "City kazalinsk not found.\n",
      "Retreiving results for city 255, camacupa.\n",
      "Retreiving results for city 256, halifax.\n",
      "Retreiving results for city 257, norman wells.\n",
      "Retreiving results for city 258, berezayka.\n",
      "Retreiving results for city 259, borogontsy.\n",
      "Retreiving results for city 260, sehithwa.\n",
      "Retreiving results for city 261, calamar.\n",
      "Retreiving results for city 262, loei.\n",
      "Retreiving results for city 263, llandrindod wells.\n",
      "Retreiving results for city 264, louisbourg.\n",
      "City louisbourg not found.\n",
      "Retreiving results for city 264, pisco.\n",
      "Retreiving results for city 265, barra.\n",
      "Retreiving results for city 266, geraldton.\n",
      "Retreiving results for city 267, falealupo.\n",
      "City falealupo not found.\n",
      "Retreiving results for city 267, luderitz.\n",
      "Retreiving results for city 268, sawtell.\n",
      "Retreiving results for city 269, wembley.\n",
      "Retreiving results for city 270, ugoofaaru.\n",
      "Retreiving results for city 271, yerofey pavlovich.\n",
      "Retreiving results for city 272, beringovskiy.\n",
      "Retreiving results for city 273, arlit.\n",
      "Retreiving results for city 274, moron.\n",
      "Retreiving results for city 275, talaya.\n",
      "Retreiving results for city 276, saint-doulchard.\n",
      "Retreiving results for city 277, samusu.\n",
      "City samusu not found.\n",
      "Retreiving results for city 277, ostersund.\n",
      "Retreiving results for city 278, zyryanka.\n",
      "Retreiving results for city 279, fuquay-varina.\n",
      "Retreiving results for city 280, jalu.\n",
      "Retreiving results for city 281, makakilo city.\n",
      "Retreiving results for city 282, troitskoye.\n",
      "Retreiving results for city 283, salalah.\n",
      "Retreiving results for city 284, fort saint john.\n",
      "City fort saint john not found.\n",
      "Retreiving results for city 284, ijaki.\n",
      "City ijaki not found.\n",
      "Retreiving results for city 284, elko.\n",
      "Retreiving results for city 285, pundaguitan.\n",
      "Retreiving results for city 286, polyarnyy.\n",
      "Retreiving results for city 287, asau.\n",
      "Retreiving results for city 288, palabuhanratu.\n",
      "City palabuhanratu not found.\n",
      "Retreiving results for city 288, niono.\n",
      "Retreiving results for city 289, faya.\n",
      "Retreiving results for city 290, hammerfest.\n",
      "Retreiving results for city 291, victoria.\n",
      "Retreiving results for city 292, omsukchan.\n",
      "Retreiving results for city 293, hambantota.\n",
      "Retreiving results for city 294, skibbereen.\n",
      "Retreiving results for city 295, rio gallegos.\n",
      "Retreiving results for city 296, half moon bay.\n",
      "Retreiving results for city 297, orlik.\n",
      "Retreiving results for city 298, kumeny.\n",
      "Retreiving results for city 299, gornopravdinsk.\n",
      "Retreiving results for city 300, muros.\n",
      "Retreiving results for city 301, quelimane.\n",
      "Retreiving results for city 302, sorong.\n",
      "Retreiving results for city 303, artyom.\n",
      "Retreiving results for city 304, nhulunbuy.\n",
      "Retreiving results for city 305, klaksvik.\n",
      "Retreiving results for city 306, fort abbas.\n",
      "Retreiving results for city 307, nemuro.\n",
      "Retreiving results for city 308, nyurba.\n",
      "Retreiving results for city 309, manadhoo.\n",
      "Retreiving results for city 310, sao raimundo nonato.\n",
      "Retreiving results for city 311, pedreiras.\n",
      "Retreiving results for city 312, harrismith.\n",
      "Retreiving results for city 313, karatau.\n",
      "Retreiving results for city 314, laizhou.\n",
      "Retreiving results for city 315, noumea.\n",
      "Retreiving results for city 316, rantepao.\n",
      "Retreiving results for city 317, cururupu.\n",
      "Retreiving results for city 318, guerrero negro.\n",
      "Retreiving results for city 319, saleaula.\n",
      "City saleaula not found.\n",
      "Retreiving results for city 319, te anau.\n",
      "Retreiving results for city 320, voh.\n",
      "Retreiving results for city 321, zlitan.\n",
      "Retreiving results for city 322, henties bay.\n",
      "Retreiving results for city 323, nizhnevartovsk.\n",
      "Retreiving results for city 324, aksha.\n",
      "Retreiving results for city 325, tucuma.\n"
     ]
    },
    {
     "name": "stdout",
     "output_type": "stream",
     "text": [
      "Retreiving results for city 326, shimoda.\n",
      "Retreiving results for city 327, teluk nibung.\n",
      "Retreiving results for city 328, livingston.\n",
      "Retreiving results for city 329, iqaluit.\n",
      "Retreiving results for city 330, coquimbo.\n",
      "Retreiving results for city 331, kuche.\n",
      "City kuche not found.\n",
      "Retreiving results for city 331, mercedes.\n",
      "Retreiving results for city 332, khani.\n",
      "Retreiving results for city 333, boddam.\n",
      "Retreiving results for city 334, yaan.\n",
      "Retreiving results for city 335, souillac.\n",
      "Retreiving results for city 336, berlevag.\n",
      "Retreiving results for city 337, leningradskiy.\n",
      "Retreiving results for city 338, tessalit.\n",
      "Retreiving results for city 339, cervo.\n",
      "Retreiving results for city 340, phrai bung.\n",
      "City phrai bung not found.\n",
      "Retreiving results for city 340, san quintin.\n",
      "Retreiving results for city 341, rognan.\n",
      "Retreiving results for city 342, labuan.\n",
      "Retreiving results for city 343, hastings.\n",
      "Retreiving results for city 344, vaitupu.\n",
      "City vaitupu not found.\n",
      "Retreiving results for city 344, pescia.\n",
      "Retreiving results for city 345, saint-joseph.\n",
      "Retreiving results for city 346, nantucket.\n",
      "Retreiving results for city 347, paragominas.\n",
      "Retreiving results for city 348, gardelegen.\n",
      "Retreiving results for city 349, banyumas.\n",
      "Retreiving results for city 350, sulangan.\n",
      "Retreiving results for city 351, nacala.\n",
      "Retreiving results for city 352, khormuj.\n",
      "City khormuj not found.\n",
      "Retreiving results for city 352, baykalsk.\n",
      "Retreiving results for city 353, darnah.\n",
      "Retreiving results for city 354, alugan.\n",
      "Retreiving results for city 355, port macquarie.\n",
      "Retreiving results for city 356, metro.\n",
      "Retreiving results for city 357, bansi.\n",
      "Retreiving results for city 358, chokurdakh.\n",
      "Retreiving results for city 359, sesheke.\n",
      "Retreiving results for city 360, abu samrah.\n",
      "Retreiving results for city 361, fairbanks.\n",
      "Retreiving results for city 362, honningsvag.\n",
      "Retreiving results for city 363, port-cartier.\n",
      "Retreiving results for city 364, broome.\n",
      "Retreiving results for city 365, tabiauea.\n",
      "City tabiauea not found.\n",
      "Retreiving results for city 365, bereda.\n",
      "Retreiving results for city 366, nattam.\n",
      "Retreiving results for city 367, salekhard.\n",
      "Retreiving results for city 368, nguiu.\n",
      "City nguiu not found.\n",
      "Retreiving results for city 368, grand gaube.\n",
      "Retreiving results for city 369, sola.\n",
      "Retreiving results for city 370, edd.\n",
      "Retreiving results for city 371, waipawa.\n",
      "Retreiving results for city 372, kirakira.\n",
      "Retreiving results for city 373, port-gentil.\n",
      "Retreiving results for city 374, bell ville.\n",
      "Retreiving results for city 375, mountain home.\n",
      "Retreiving results for city 376, mayumba.\n",
      "Retreiving results for city 377, bukama.\n",
      "Retreiving results for city 378, stephenville.\n",
      "Retreiving results for city 379, magadi.\n",
      "Retreiving results for city 380, chilca.\n",
      "Retreiving results for city 381, abnub.\n",
      "Retreiving results for city 382, martapura.\n",
      "Retreiving results for city 383, rio grande.\n",
      "Retreiving results for city 384, vestmanna.\n",
      "Retreiving results for city 385, havre-saint-pierre.\n",
      "Retreiving results for city 386, saldanha.\n",
      "Retreiving results for city 387, zalantun.\n",
      "Retreiving results for city 388, buin.\n",
      "Retreiving results for city 389, durban.\n",
      "Retreiving results for city 390, diamantino.\n",
      "Retreiving results for city 391, vardo.\n",
      "Retreiving results for city 392, bida.\n",
      "Retreiving results for city 393, aykhal.\n",
      "Retreiving results for city 394, berdigestyakh.\n",
      "Retreiving results for city 395, sitka.\n",
      "Retreiving results for city 396, hualmay.\n",
      "Retreiving results for city 397, udachnyy.\n",
      "Retreiving results for city 398, el badari.\n",
      "City el badari not found.\n",
      "Retreiving results for city 398, surt.\n",
      "Retreiving results for city 399, puerto baquerizo moreno.\n",
      "Retreiving results for city 400, ferme-neuve.\n",
      "Retreiving results for city 401, hatillo.\n",
      "Retreiving results for city 402, takapau.\n",
      "Retreiving results for city 403, kenora.\n",
      "Retreiving results for city 404, shenjiamen.\n",
      "Retreiving results for city 405, fortuna.\n",
      "Retreiving results for city 406, merauke.\n",
      "Retreiving results for city 407, olafsvik.\n",
      "Retreiving results for city 408, izhmorskiy.\n",
      "Retreiving results for city 409, viligili.\n",
      "City viligili not found.\n",
      "Retreiving results for city 409, pareora.\n",
      "Retreiving results for city 410, dudinka.\n",
      "Retreiving results for city 411, igarka.\n",
      "Retreiving results for city 412, bandar-e anzali.\n",
      "Retreiving results for city 413, mariental.\n",
      "Retreiving results for city 414, sabha.\n",
      "Retreiving results for city 415, takoradi.\n",
      "Retreiving results for city 416, namatanai.\n",
      "Retreiving results for city 417, tomar.\n",
      "Retreiving results for city 418, kungurtug.\n",
      "Retreiving results for city 419, verkhnevilyuysk.\n",
      "Retreiving results for city 420, galle.\n",
      "Retreiving results for city 421, natal.\n",
      "Retreiving results for city 422, mao.\n",
      "Retreiving results for city 423, nelson bay.\n",
      "Retreiving results for city 424, garowe.\n",
      "Retreiving results for city 425, fort saint james.\n",
      "Retreiving results for city 426, lagoa.\n",
      "Retreiving results for city 427, kendari.\n",
      "Retreiving results for city 428, cherdyn.\n",
      "Retreiving results for city 429, chimbote.\n",
      "Retreiving results for city 430, port lincoln.\n",
      "Retreiving results for city 431, ravar.\n",
      "Retreiving results for city 432, saint-pierre.\n",
      "Retreiving results for city 433, buraydah.\n",
      "Retreiving results for city 434, ossora.\n",
      "Retreiving results for city 435, tres palos.\n",
      "Retreiving results for city 436, kaeo.\n",
      "Retreiving results for city 437, lupiro.\n",
      "Retreiving results for city 438, cumberland.\n",
      "Retreiving results for city 439, havre.\n",
      "Retreiving results for city 440, port shepstone.\n",
      "Retreiving results for city 441, mugumu.\n",
      "Retreiving results for city 442, alotau.\n",
      "City alotau not found.\n",
      "Retreiving results for city 442, turukhansk.\n",
      "Retreiving results for city 443, ramotswa.\n",
      "Retreiving results for city 444, fershampenuaz.\n",
      "Retreiving results for city 445, mount gambier.\n",
      "Retreiving results for city 446, eskil.\n",
      "Retreiving results for city 447, grand-santi.\n",
      "Retreiving results for city 448, umea.\n",
      "Retreiving results for city 449, waingapu.\n",
      "Retreiving results for city 450, artesia.\n",
      "Retreiving results for city 451, burica.\n",
      "City burica not found.\n",
      "Retreiving results for city 451, santa eulalia del rio.\n",
      "City santa eulalia del rio not found.\n",
      "Retreiving results for city 451, kalmunai.\n",
      "Retreiving results for city 452, langham.\n",
      "Retreiving results for city 453, garissa.\n",
      "Retreiving results for city 454, okhtyrka.\n",
      "Retreiving results for city 455, shache.\n",
      "Retreiving results for city 456, marsala.\n",
      "Retreiving results for city 457, tarlungeni.\n",
      "Retreiving results for city 458, luanda.\n",
      "Retreiving results for city 459, ancud.\n",
      "Retreiving results for city 460, oyama.\n",
      "Retreiving results for city 461, helong.\n",
      "Retreiving results for city 462, imbituba.\n",
      "Retreiving results for city 463, ambilobe.\n",
      "Retreiving results for city 464, lana.\n",
      "Retreiving results for city 465, magdagachi.\n",
      "Retreiving results for city 466, sindor.\n",
      "Retreiving results for city 467, auki.\n",
      "Retreiving results for city 468, mehamn.\n",
      "Retreiving results for city 469, ahipara.\n",
      "Retreiving results for city 470, dubenskiy.\n",
      "City dubenskiy not found.\n",
      "Retreiving results for city 470, san isidro.\n",
      "Retreiving results for city 471, coxim.\n",
      "Retreiving results for city 472, jawhar.\n",
      "Retreiving results for city 473, lasa.\n",
      "Retreiving results for city 474, dombarovskiy.\n",
      "Retreiving results for city 475, iranshahr.\n",
      "Retreiving results for city 476, kamaishi.\n",
      "Retreiving results for city 477, nefteyugansk.\n",
      "Retreiving results for city 478, bac lieu.\n",
      "Retreiving results for city 479, langxiang.\n",
      "Retreiving results for city 480, paso de los toros.\n",
      "Retreiving results for city 481, caucaia.\n",
      "Retreiving results for city 482, mount pleasant.\n",
      "Retreiving results for city 483, anchorage.\n",
      "Retreiving results for city 484, san policarpo.\n",
      "Retreiving results for city 485, phan thiet.\n",
      "Retreiving results for city 486, lavrentiya.\n",
      "Retreiving results for city 487, port hardy.\n",
      "Retreiving results for city 488, hay river.\n",
      "Retreiving results for city 489, cienfuegos.\n",
      "Retreiving results for city 490, tacuarembo.\n",
      "Retreiving results for city 491, maragogi.\n",
      "Retreiving results for city 492, bolshiye chapurniki.\n",
      "City bolshiye chapurniki not found.\n",
      "Retreiving results for city 492, rettikhovka.\n",
      "Retreiving results for city 493, mizan teferi.\n",
      "Retreiving results for city 494, stanger.\n"
     ]
    },
    {
     "name": "stdout",
     "output_type": "stream",
     "text": [
      "Retreiving results for city 495, san nicolas.\n",
      "Retreiving results for city 496, isangel.\n",
      "Retreiving results for city 497, cap malheureux.\n",
      "Retreiving results for city 498, savannah bight.\n",
      "Retreiving results for city 499, grand river south east.\n",
      "City grand river south east not found.\n",
      "Retreiving results for city 499, yining.\n",
      "Retreiving results for city 500, rocha.\n",
      "Retreiving results for city 501, biltine.\n",
      "Retreiving results for city 502, lolua.\n",
      "City lolua not found.\n",
      "Retreiving results for city 502, khatanga.\n",
      "Retreiving results for city 503, brae.\n",
      "Retreiving results for city 504, el alto.\n",
      "Retreiving results for city 505, teknaf.\n",
      "Retreiving results for city 506, riyadh.\n",
      "Retreiving results for city 507, vrangel.\n",
      "Retreiving results for city 508, marcona.\n",
      "City marcona not found.\n",
      "Retreiving results for city 508, bara.\n",
      "Retreiving results for city 509, tiarei.\n",
      "Retreiving results for city 510, boa vista.\n",
      "Retreiving results for city 511, lakselv.\n",
      "Retreiving results for city 512, kango.\n",
      "Retreiving results for city 513, lazaro cardenas.\n",
      "Retreiving results for city 514, kapit.\n",
      "Retreiving results for city 515, carnaiba.\n",
      "Retreiving results for city 516, cheremukhovo.\n",
      "Retreiving results for city 517, betafo.\n",
      "Retreiving results for city 518, mizdah.\n",
      "Retreiving results for city 519, mantena.\n",
      "Retreiving results for city 520, general roca.\n",
      "Retreiving results for city 521, chuguyevka.\n",
      "Retreiving results for city 522, xinzhou.\n",
      "Retreiving results for city 523, shadegan.\n",
      "Retreiving results for city 524, pochutla.\n",
      "Retreiving results for city 525, kununurra.\n",
      "Retreiving results for city 526, rize.\n",
      "---------------\n",
      "Search Complete\n"
     ]
    }
   ],
   "source": [
    "#Build for loop and build URL\n",
    "for city in cities:\n",
    "    url = \"http://api.openweathermap.org/data/2.5/weather?\"\n",
    "    query_url = f\"{url}&units=imperial&appid=86e99f8f52b689a868c3db258b66be67&q=\"\n",
    "\n",
    "#Retrieve results    \n",
    "    try:\n",
    "        print(f\"Retreiving results for city {item}, {city}.\")\n",
    "        response = requests.get(query_url + city)\n",
    "        response2 = response.json()\n",
    "        name.append(response2['name']),\n",
    "        lat.append(response2['coord']['lat']),\n",
    "        lon.append(response2['coord']['lon']),\n",
    "        humidity.append(response2['main']['humidity']),\n",
    "        maxt.append(response2['main']['temp_max']),\n",
    "        cloud.append(response2['clouds']['all']),\n",
    "        wind.append(response2['wind']['speed']),\n",
    "        date.append(response2['dt']),\n",
    "        country.append(response2['sys']['country'])\n",
    "\n",
    "#Have item number increase by 1        \n",
    "        item +=1\n",
    "\n",
    "#Exception handling       \n",
    "    except:\n",
    "        print(f\"City {city} not found.\")\n",
    "        \n",
    "print(\"---------------\")\n",
    "print(\"Search Complete\")"
   ]
  },
  {
   "cell_type": "markdown",
   "metadata": {},
   "source": [
    "### Convert Raw Data to DataFrame\n",
    "* Export the city data into a .csv.\n",
    "* Display the DataFrame"
   ]
  },
  {
   "cell_type": "code",
   "execution_count": 173,
   "metadata": {},
   "outputs": [
    {
     "data": {
      "text/html": [
       "<div>\n",
       "<style scoped>\n",
       "    .dataframe tbody tr th:only-of-type {\n",
       "        vertical-align: middle;\n",
       "    }\n",
       "\n",
       "    .dataframe tbody tr th {\n",
       "        vertical-align: top;\n",
       "    }\n",
       "\n",
       "    .dataframe thead th {\n",
       "        text-align: right;\n",
       "    }\n",
       "</style>\n",
       "<table border=\"1\" class=\"dataframe\">\n",
       "  <thead>\n",
       "    <tr style=\"text-align: right;\">\n",
       "      <th></th>\n",
       "      <th>City</th>\n",
       "      <th>Latitude</th>\n",
       "      <th>Longitude</th>\n",
       "      <th>Max temperature(F)</th>\n",
       "      <th>Humidity(%)</th>\n",
       "      <th>Cloudiness(%)</th>\n",
       "      <th>Wind Speed(mph)</th>\n",
       "      <th>Country</th>\n",
       "      <th>Date</th>\n",
       "    </tr>\n",
       "  </thead>\n",
       "  <tbody>\n",
       "    <tr>\n",
       "      <th>0</th>\n",
       "      <td>Albany</td>\n",
       "      <td>42.60</td>\n",
       "      <td>-73.97</td>\n",
       "      <td>59.00</td>\n",
       "      <td>94</td>\n",
       "      <td>0</td>\n",
       "      <td>8.97</td>\n",
       "      <td>US</td>\n",
       "      <td>1601521684</td>\n",
       "    </tr>\n",
       "    <tr>\n",
       "      <th>1</th>\n",
       "      <td>Marzuq</td>\n",
       "      <td>14.40</td>\n",
       "      <td>46.47</td>\n",
       "      <td>72.50</td>\n",
       "      <td>41</td>\n",
       "      <td>0</td>\n",
       "      <td>3.58</td>\n",
       "      <td>YE</td>\n",
       "      <td>1601522201</td>\n",
       "    </tr>\n",
       "    <tr>\n",
       "      <th>2</th>\n",
       "      <td>Pevek</td>\n",
       "      <td>69.70</td>\n",
       "      <td>170.31</td>\n",
       "      <td>37.09</td>\n",
       "      <td>80</td>\n",
       "      <td>0</td>\n",
       "      <td>7.18</td>\n",
       "      <td>RU</td>\n",
       "      <td>1601521881</td>\n",
       "    </tr>\n",
       "    <tr>\n",
       "      <th>3</th>\n",
       "      <td>Rawson</td>\n",
       "      <td>-43.30</td>\n",
       "      <td>-65.10</td>\n",
       "      <td>51.58</td>\n",
       "      <td>44</td>\n",
       "      <td>11</td>\n",
       "      <td>24.36</td>\n",
       "      <td>AR</td>\n",
       "      <td>1601522033</td>\n",
       "    </tr>\n",
       "    <tr>\n",
       "      <th>4</th>\n",
       "      <td>Rikitea</td>\n",
       "      <td>-23.12</td>\n",
       "      <td>-134.97</td>\n",
       "      <td>72.28</td>\n",
       "      <td>82</td>\n",
       "      <td>85</td>\n",
       "      <td>24.70</td>\n",
       "      <td>PF</td>\n",
       "      <td>1601521864</td>\n",
       "    </tr>\n",
       "  </tbody>\n",
       "</table>\n",
       "</div>"
      ],
      "text/plain": [
       "      City  Latitude  Longitude  Max temperature(F)  Humidity(%)  \\\n",
       "0   Albany     42.60     -73.97               59.00           94   \n",
       "1   Marzuq     14.40      46.47               72.50           41   \n",
       "2    Pevek     69.70     170.31               37.09           80   \n",
       "3   Rawson    -43.30     -65.10               51.58           44   \n",
       "4  Rikitea    -23.12    -134.97               72.28           82   \n",
       "\n",
       "   Cloudiness(%)  Wind Speed(mph) Country        Date  \n",
       "0              0             8.97      US  1601521684  \n",
       "1              0             3.58      YE  1601522201  \n",
       "2              0             7.18      RU  1601521881  \n",
       "3             11            24.36      AR  1601522033  \n",
       "4             85            24.70      PF  1601521864  "
      ]
     },
     "execution_count": 173,
     "metadata": {},
     "output_type": "execute_result"
    }
   ],
   "source": [
    "#Create data frame and save to CSV\n",
    "weather_data = pd.DataFrame({\"City\": name,\n",
    "                            \"Latitude\": lat,\n",
    "                            \"Longitude\": lon,\n",
    "                            \"Max temperature(F)\": maxt,\n",
    "                            \"Humidity(%)\": humidity,\n",
    "                            \"Cloudiness(%)\": cloud,\n",
    "                            \"Wind Speed(mph)\": wind,\n",
    "                            \"Country\": country,\n",
    "                            \"Date\": date\n",
    "})\n",
    "\n",
    "\n",
    "weather_data.to_csv(\"worldcity_weather.csv\", index=True, index_label=\"City ID\", header=True)\n",
    "weather_data.head()"
   ]
  },
  {
   "cell_type": "code",
   "execution_count": 174,
   "metadata": {},
   "outputs": [
    {
     "data": {
      "text/html": [
       "<div>\n",
       "<style scoped>\n",
       "    .dataframe tbody tr th:only-of-type {\n",
       "        vertical-align: middle;\n",
       "    }\n",
       "\n",
       "    .dataframe tbody tr th {\n",
       "        vertical-align: top;\n",
       "    }\n",
       "\n",
       "    .dataframe thead th {\n",
       "        text-align: right;\n",
       "    }\n",
       "</style>\n",
       "<table border=\"1\" class=\"dataframe\">\n",
       "  <thead>\n",
       "    <tr style=\"text-align: right;\">\n",
       "      <th></th>\n",
       "      <th>Latitude</th>\n",
       "      <th>Longitude</th>\n",
       "      <th>Max temperature(F)</th>\n",
       "      <th>Humidity(%)</th>\n",
       "      <th>Cloudiness(%)</th>\n",
       "      <th>Wind Speed(mph)</th>\n",
       "      <th>Date</th>\n",
       "    </tr>\n",
       "  </thead>\n",
       "  <tbody>\n",
       "    <tr>\n",
       "      <th>count</th>\n",
       "      <td>526.000000</td>\n",
       "      <td>526.000000</td>\n",
       "      <td>526.000000</td>\n",
       "      <td>526.000000</td>\n",
       "      <td>526.000000</td>\n",
       "      <td>526.000000</td>\n",
       "      <td>5.260000e+02</td>\n",
       "    </tr>\n",
       "    <tr>\n",
       "      <th>mean</th>\n",
       "      <td>18.425856</td>\n",
       "      <td>24.039030</td>\n",
       "      <td>63.089297</td>\n",
       "      <td>72.785171</td>\n",
       "      <td>51.212928</td>\n",
       "      <td>7.985380</td>\n",
       "      <td>1.601522e+09</td>\n",
       "    </tr>\n",
       "    <tr>\n",
       "      <th>std</th>\n",
       "      <td>34.513783</td>\n",
       "      <td>88.302414</td>\n",
       "      <td>16.658865</td>\n",
       "      <td>20.235223</td>\n",
       "      <td>39.198692</td>\n",
       "      <td>5.513936</td>\n",
       "      <td>1.847017e+02</td>\n",
       "    </tr>\n",
       "    <tr>\n",
       "      <th>min</th>\n",
       "      <td>-54.800000</td>\n",
       "      <td>-175.200000</td>\n",
       "      <td>11.190000</td>\n",
       "      <td>1.000000</td>\n",
       "      <td>0.000000</td>\n",
       "      <td>0.200000</td>\n",
       "      <td>1.601522e+09</td>\n",
       "    </tr>\n",
       "    <tr>\n",
       "      <th>25%</th>\n",
       "      <td>-9.087500</td>\n",
       "      <td>-52.272500</td>\n",
       "      <td>50.000000</td>\n",
       "      <td>61.000000</td>\n",
       "      <td>5.000000</td>\n",
       "      <td>3.980000</td>\n",
       "      <td>1.601522e+09</td>\n",
       "    </tr>\n",
       "    <tr>\n",
       "      <th>50%</th>\n",
       "      <td>20.530000</td>\n",
       "      <td>26.615000</td>\n",
       "      <td>64.000000</td>\n",
       "      <td>77.000000</td>\n",
       "      <td>55.000000</td>\n",
       "      <td>6.930000</td>\n",
       "      <td>1.601522e+09</td>\n",
       "    </tr>\n",
       "    <tr>\n",
       "      <th>75%</th>\n",
       "      <td>47.925000</td>\n",
       "      <td>105.020000</td>\n",
       "      <td>76.680000</td>\n",
       "      <td>88.000000</td>\n",
       "      <td>90.000000</td>\n",
       "      <td>10.997500</td>\n",
       "      <td>1.601522e+09</td>\n",
       "    </tr>\n",
       "    <tr>\n",
       "      <th>max</th>\n",
       "      <td>78.220000</td>\n",
       "      <td>179.320000</td>\n",
       "      <td>93.020000</td>\n",
       "      <td>100.000000</td>\n",
       "      <td>100.000000</td>\n",
       "      <td>38.010000</td>\n",
       "      <td>1.601522e+09</td>\n",
       "    </tr>\n",
       "  </tbody>\n",
       "</table>\n",
       "</div>"
      ],
      "text/plain": [
       "         Latitude   Longitude  Max temperature(F)  Humidity(%)  Cloudiness(%)  \\\n",
       "count  526.000000  526.000000          526.000000   526.000000     526.000000   \n",
       "mean    18.425856   24.039030           63.089297    72.785171      51.212928   \n",
       "std     34.513783   88.302414           16.658865    20.235223      39.198692   \n",
       "min    -54.800000 -175.200000           11.190000     1.000000       0.000000   \n",
       "25%     -9.087500  -52.272500           50.000000    61.000000       5.000000   \n",
       "50%     20.530000   26.615000           64.000000    77.000000      55.000000   \n",
       "75%     47.925000  105.020000           76.680000    88.000000      90.000000   \n",
       "max     78.220000  179.320000           93.020000   100.000000     100.000000   \n",
       "\n",
       "       Wind Speed(mph)          Date  \n",
       "count       526.000000  5.260000e+02  \n",
       "mean          7.985380  1.601522e+09  \n",
       "std           5.513936  1.847017e+02  \n",
       "min           0.200000  1.601522e+09  \n",
       "25%           3.980000  1.601522e+09  \n",
       "50%           6.930000  1.601522e+09  \n",
       "75%          10.997500  1.601522e+09  \n",
       "max          38.010000  1.601522e+09  "
      ]
     },
     "execution_count": 174,
     "metadata": {},
     "output_type": "execute_result"
    }
   ],
   "source": [
    "weather_data.describe()"
   ]
  },
  {
   "cell_type": "markdown",
   "metadata": {},
   "source": [
    "## Inspect the data and remove the cities where the humidity > 100%.\n",
    "----\n",
    "Skip this step if there are no cities that have humidity > 100%. "
   ]
  },
  {
   "cell_type": "code",
   "execution_count": 175,
   "metadata": {},
   "outputs": [
    {
     "name": "stdout",
     "output_type": "stream",
     "text": [
      "There are no cities with humidity values over 100%\n"
     ]
    }
   ],
   "source": [
    "#Find cities that have humidity over 100%\n",
    "unreal_humidity = weather_data.loc[weather_data[\"Humidity(%)\"] > 100, :]\n",
    "\n",
    "#Get the indices of cities that have humidity over 100%.\n",
    "if unreal_humidity.empty == True:\n",
    "    print(\"There are no cities with humidity values over 100%\")\n",
    "    \n",
    "    latitudes = weather_data[\"Latitude\"]\n",
    "    temperatures = weather_data[\"Max temperature(F)\"]\n",
    "    humidity = weather_data[\"Humidity(%)\"]\n",
    "    cloudiness = weather_data[\"Cloudiness(%)\"]\n",
    "    windspeed = weather_data[\"Wind Speed(mph)\"]\n",
    "    \n",
    "else:\n",
    "    unreal_humidityindex = unreal_humidity.index\n",
    "    print(\"We'll have to do some cleaning. Hold, please\")\n",
    "    \n",
    "# Make a new DataFrame equal to the city data to drop all humidity outliers by index.\n",
    "# Passing \"inplace=False\" will make a copy of the city_data DataFrame, which we call \"clean_city_data\".\n",
    "    clean_city_data = weather_data.drop(unreal_humidityindex).reset_index(drop=True)\n",
    "    clean_city_data.head()\n",
    "    latitudes = clean_city_data[\"Latitude\"]\n",
    "    temperatures = clean_city_data[\"Max temperature(F)\"]\n",
    "    humidity = clean_city_data[\"Humidity(%)\"]\n",
    "    cloudiness = clean_city_data[\"Cloudiness(%)\"]\n",
    "    windspeed = clean_city_data[\"Wind Speed(mph)\"]\n",
    "\n",
    "    clean_city_data.to_csv(\"clean_city_data.csv\", index=True, index_label=\"City ID\", header=True)"
   ]
  },
  {
   "cell_type": "markdown",
   "metadata": {},
   "source": [
    "## Plotting the Data\n",
    "* Use proper labeling of the plots using plot titles (including date of analysis) and axes labels.\n",
    "* Save the plotted figures as .pngs."
   ]
  },
  {
   "cell_type": "markdown",
   "metadata": {},
   "source": [
    "## Latitude vs. Temperature Plot"
   ]
  },
  {
   "cell_type": "code",
   "execution_count": 176,
   "metadata": {
    "scrolled": true
   },
   "outputs": [
    {
     "data": {
      "image/png": "[encoded data removed]",
      "text/plain": [
       "<Figure size 432x288 with 1 Axes>"
      ]
     },
     "metadata": {
      "needs_background": "light"
     },
     "output_type": "display_data"
    }
   ],
   "source": [
    "#Scatter plot - Latitude vs. Termperature\n",
    "plt.scatter(latitudes, temperatures, marker='o', facecolors='seagreen', edgecolors='black')\n",
    "\n",
    "plt.title(\"City Latitude vs. Max Temperature (9/30/20)\", fontsize=16)\n",
    "plt.ylabel(\"Max Temperature (F)\", fontsize=14)\n",
    "plt.xlabel(\"Latitude\", fontsize=14)\n",
    "plt.grid(True)\n",
    "\n",
    "# Save the figure\n",
    "plt.savefig(\"MaxTemp_Latitude.png\")\n",
    "plt.show()"
   ]
  },
  {
   "cell_type": "code",
   "execution_count": 1,
   "metadata": {},
   "outputs": [],
   "source": [
    "#This plot is looking at whether latitude has an effect on the max temperature. \n",
    "#It appears that the highest and lowest latitudes experience the lowest temperatures, \n",
    "#while the latitudes closer to 0 have the higher temperatures."
   ]
  },
  {
   "cell_type": "markdown",
   "metadata": {},
   "source": [
    "## Latitude vs. Humidity Plot"
   ]
  },
  {
   "cell_type": "code",
   "execution_count": 177,
   "metadata": {},
   "outputs": [
    {
     "data": {
      "image/png": "[encoded data removed]",
      "text/plain": [
       "<Figure size 432x288 with 1 Axes>"
      ]
     },
     "metadata": {
      "needs_background": "light"
     },
     "output_type": "display_data"
    }
   ],
   "source": [
    "#Scatter plot - Latitude vs. Humidity\n",
    "plt.scatter(latitudes, humidity, marker='o', facecolors='seagreen', edgecolors='black')\n",
    "\n",
    "plt.title(\"City Latitude vs. Humidity (9/30/20)\", fontsize=16)\n",
    "plt.ylabel(\"Humidity (%)\", fontsize=14)\n",
    "plt.xlabel(\"Latitude\", fontsize=14)\n",
    "plt.grid(True)\n",
    "\n",
    "# Save the figure\n",
    "plt.savefig(\"Humidity_Latitude.png\")\n",
    "plt.show()"
   ]
  },
  {
   "cell_type": "code",
   "execution_count": null,
   "metadata": {},
   "outputs": [],
   "source": [
    "#This plot is looking at the relationship between latitude and humidity. \n",
    "#It looks like there is no correllation between latitude and humidity."
   ]
  },
  {
   "cell_type": "markdown",
   "metadata": {},
   "source": [
    "## Latitude vs. Cloudiness Plot"
   ]
  },
  {
   "cell_type": "code",
   "execution_count": 178,
   "metadata": {},
   "outputs": [
    {
     "data": {
      "image/png": "[encoded data removed]",
      "text/plain": [
       "<Figure size 432x288 with 1 Axes>"
      ]
     },
     "metadata": {
      "needs_background": "light"
     },
     "output_type": "display_data"
    }
   ],
   "source": [
    "#Scatter plot - Latitude vs. Cloudiness\n",
    "plt.scatter(latitudes, cloudiness, marker='o', facecolors='seagreen', edgecolors='black')\n",
    "\n",
    "plt.title(\"City Latitude vs. Cloudiness (9/30/20)\", fontsize=16)\n",
    "plt.ylabel(\"Cloudiness (%)\", fontsize=14)\n",
    "plt.xlabel(\"Latitude\", fontsize=14)\n",
    "plt.grid(True)\n",
    "\n",
    "# Save the figure\n",
    "plt.savefig(\"Cloudiness_Latitude.png\")\n",
    "plt.show()"
   ]
  },
  {
   "cell_type": "code",
   "execution_count": null,
   "metadata": {},
   "outputs": [],
   "source": [
    "#This plot is looking at the relationship between latitude and cloudiness. \n",
    "#It looks like there is no correllation between latitude and cloudiness."
   ]
  },
  {
   "cell_type": "markdown",
   "metadata": {},
   "source": [
    "## Latitude vs. Wind Speed Plot"
   ]
  },
  {
   "cell_type": "code",
   "execution_count": 179,
   "metadata": {},
   "outputs": [
    {
     "data": {
      "image/png": "[encoded data removed]",
      "text/plain": [
       "<Figure size 432x288 with 1 Axes>"
      ]
     },
     "metadata": {
      "needs_background": "light"
     },
     "output_type": "display_data"
    }
   ],
   "source": [
    "#Scatter plot - Latitude vs. Wind Speed\n",
    "plt.scatter(latitudes, windspeed, marker='o', facecolors='seagreen', edgecolors='black')\n",
    "\n",
    "plt.title(\"City Latitude vs. Wind Speed (9/30/20)\", fontsize=16)\n",
    "plt.ylabel(\"Wind Speed (mph)\", fontsize=14)\n",
    "plt.xlabel(\"Latitude\", fontsize=14)\n",
    "plt.grid(True)\n",
    "\n",
    "# Save the figure\n",
    "plt.savefig(\"Windspeed_Latitude.png\")\n",
    "plt.show()"
   ]
  },
  {
   "cell_type": "code",
   "execution_count": null,
   "metadata": {},
   "outputs": [],
   "source": [
    "#This plot is looking at the relationship between latitude and wind speed. \n",
    "#It looks like there is no correllation between latitude and wind speed."
   ]
  },
  {
   "cell_type": "markdown",
   "metadata": {},
   "source": [
    "## Linear Regression"
   ]
  },
  {
   "cell_type": "code",
   "execution_count": 180,
   "metadata": {},
   "outputs": [],
   "source": [
    "#Extract data for northern and southern hemispheres\n",
    "northern_hemisphere = weather_data.loc[weather_data[\"Latitude\"] >= 0, :].copy().reset_index(drop=True)\n",
    "southern_hemisphere = weather_data.loc[weather_data[\"Latitude\"] < 0, :].copy().reset_index(drop=True)"
   ]
  },
  {
   "cell_type": "markdown",
   "metadata": {},
   "source": [
    "####  Northern Hemisphere - Max Temp vs. Latitude Linear Regression"
   ]
  },
  {
   "cell_type": "code",
   "execution_count": 181,
   "metadata": {},
   "outputs": [
    {
     "name": "stdout",
     "output_type": "stream",
     "text": [
      "The r-squared is: 0.7370979996235316\n"
     ]
    },
    {
     "data": {
      "image/png": "[encoded data removed]",
      "text/plain": [
       "<Figure size 432x288 with 1 Axes>"
      ]
     },
     "metadata": {
      "needs_background": "light"
     },
     "output_type": "display_data"
    }
   ],
   "source": [
    "#Northern Hemisphere Latitude vs. Max Temp Linear Regression\n",
    "x_values = northern_hemisphere['Latitude']\n",
    "y_values = northern_hemisphere[\"Max temperature(F)\"]\n",
    "(slope, intercept, rvalue, pvalue, stderr) = linregress(x_values, y_values)\n",
    "regress_values = x_values * slope + intercept\n",
    "line_eq = \"y = \" + str(round(slope,2)) + \"x + \" + str(round(intercept,2))\n",
    "plt.scatter(x_values,y_values)\n",
    "plt.plot(x_values,regress_values,\"r-\")\n",
    "plt.annotate(line_eq,(6,10),fontsize=15,color=\"red\")\n",
    "plt.xlabel('Latitude')\n",
    "plt.ylabel('Max Temp (F)')\n",
    "print(f\"The r-squared is: {rvalue**2}\")\n",
    "plt.show()"
   ]
  },
  {
   "cell_type": "markdown",
   "metadata": {},
   "source": [
    "####  Southern Hemisphere - Max Temp vs. Latitude Linear Regression"
   ]
  },
  {
   "cell_type": "code",
   "execution_count": 183,
   "metadata": {},
   "outputs": [
    {
     "name": "stdout",
     "output_type": "stream",
     "text": [
      "The r-squared is: 0.49757412693798436\n"
     ]
    },
    {
     "data": {
      "image/png": "[encoded data removed]",
      "text/plain": [
       "<Figure size 432x288 with 1 Axes>"
      ]
     },
     "metadata": {
      "needs_background": "light"
     },
     "output_type": "display_data"
    }
   ],
   "source": [
    "#Southern Hemisphere Latitude vs. Max Temp Linear Regression\n",
    "x_values = southern_hemisphere['Latitude']\n",
    "y_values = southern_hemisphere[\"Max temperature(F)\"]\n",
    "(slope, intercept, rvalue, pvalue, stderr) = linregress(x_values, y_values)\n",
    "regress_values = x_values * slope + intercept\n",
    "line_eq = \"y = \" + str(round(slope,2)) + \"x + \" + str(round(intercept,2))\n",
    "plt.scatter(x_values,y_values)\n",
    "plt.plot(x_values,regress_values,\"r-\")\n",
    "plt.annotate(line_eq,(6,10),fontsize=15,color=\"red\")\n",
    "plt.xlabel('Latitude')\n",
    "plt.ylabel('Max Temp (F)')\n",
    "print(f\"The r-squared is: {rvalue**2}\")\n",
    "plt.show()"
   ]
  },
  {
   "cell_type": "code",
   "execution_count": null,
   "metadata": {},
   "outputs": [],
   "source": [
    "#These two linear regressions charting the max temperature in the northern and southern hemisphere show a loose correllation \n",
    "#in the southern hemisphere and a fairly strong correllation in the northern hemisphere. \n",
    "#You can expect the temperature to drop the farther you travel north from the equator."
   ]
  },
  {
   "cell_type": "markdown",
   "metadata": {},
   "source": [
    "####  Northern Hemisphere - Humidity (%) vs. Latitude Linear Regression"
   ]
  },
  {
   "cell_type": "code",
   "execution_count": 184,
   "metadata": {},
   "outputs": [
    {
     "name": "stdout",
     "output_type": "stream",
     "text": [
      "The r-squared is: 0.024126978658310913\n"
     ]
    },
    {
     "data": {
      "image/png": "[encoded data removed]",
      "text/plain": [
       "<Figure size 432x288 with 1 Axes>"
      ]
     },
     "metadata": {
      "needs_background": "light"
     },
     "output_type": "display_data"
    }
   ],
   "source": [
    "#Northern Hemisphere Latitude vs. Humidity Linear Regression\n",
    "x_values = northern_hemisphere['Latitude']\n",
    "y_values = northern_hemisphere[\"Humidity(%)\"]\n",
    "(slope, intercept, rvalue, pvalue, stderr) = linregress(x_values, y_values)\n",
    "regress_values = x_values * slope + intercept\n",
    "line_eq = \"y = \" + str(round(slope,2)) + \"x + \" + str(round(intercept,2))\n",
    "plt.scatter(x_values,y_values)\n",
    "plt.plot(x_values,regress_values,\"r-\")\n",
    "plt.annotate(line_eq,(6,10),fontsize=15,color=\"red\")\n",
    "plt.xlabel('Latitude')\n",
    "plt.ylabel('Humidity (%)')\n",
    "print(f\"The r-squared is: {rvalue**2}\")\n",
    "plt.show()"
   ]
  },
  {
   "cell_type": "markdown",
   "metadata": {},
   "source": [
    "####  Southern Hemisphere - Humidity (%) vs. Latitude Linear Regression"
   ]
  },
  {
   "cell_type": "code",
   "execution_count": 185,
   "metadata": {},
   "outputs": [
    {
     "name": "stdout",
     "output_type": "stream",
     "text": [
      "The r-squared is: 0.026301678022897124\n"
     ]
    },
    {
     "data": {
      "image/png": "[encoded data removed]",
      "text/plain": [
       "<Figure size 432x288 with 1 Axes>"
      ]
     },
     "metadata": {
      "needs_background": "light"
     },
     "output_type": "display_data"
    }
   ],
   "source": [
    "#Southern Hemisphere Latitude vs. Humidity Linear Regression\n",
    "x_values = southern_hemisphere['Latitude']\n",
    "y_values = southern_hemisphere[\"Humidity(%)\"]\n",
    "(slope, intercept, rvalue, pvalue, stderr) = linregress(x_values, y_values)\n",
    "regress_values = x_values * slope + intercept\n",
    "line_eq = \"y = \" + str(round(slope,2)) + \"x + \" + str(round(intercept,2))\n",
    "plt.scatter(x_values,y_values)\n",
    "plt.plot(x_values,regress_values,\"r-\")\n",
    "plt.annotate(line_eq,(6,10),fontsize=15,color=\"red\")\n",
    "plt.xlabel('Latitude')\n",
    "plt.ylabel('Humidity (%)')\n",
    "print(f\"The r-squared is: {rvalue**2}\")\n",
    "plt.show()"
   ]
  },
  {
   "cell_type": "code",
   "execution_count": null,
   "metadata": {},
   "outputs": [],
   "source": [
    "#These two linear regressions charting the humidity in the northern and southern hemispheres show no correllation.\n",
    "#The level of humidity is not related to the distance from the equator."
   ]
  },
  {
   "cell_type": "markdown",
   "metadata": {},
   "source": [
    "####  Northern Hemisphere - Cloudiness (%) vs. Latitude Linear Regression"
   ]
  },
  {
   "cell_type": "code",
   "execution_count": 186,
   "metadata": {},
   "outputs": [
    {
     "name": "stdout",
     "output_type": "stream",
     "text": [
      "The r-squared is: 0.008287409074560523\n"
     ]
    },
    {
     "data": {
      "image/png": "[encoded data removed]",
      "text/plain": [
       "<Figure size 432x288 with 1 Axes>"
      ]
     },
     "metadata": {
      "needs_background": "light"
     },
     "output_type": "display_data"
    }
   ],
   "source": [
    "#Northern Hemisphere Latitude vs. Cloudiness Linear Regression\n",
    "x_values = northern_hemisphere['Latitude']\n",
    "y_values = northern_hemisphere[\"Cloudiness(%)\"]\n",
    "(slope, intercept, rvalue, pvalue, stderr) = linregress(x_values, y_values)\n",
    "regress_values = x_values * slope + intercept\n",
    "line_eq = \"y = \" + str(round(slope,2)) + \"x + \" + str(round(intercept,2))\n",
    "plt.scatter(x_values,y_values)\n",
    "plt.plot(x_values,regress_values,\"r-\")\n",
    "plt.annotate(line_eq,(6,10),fontsize=15,color=\"red\")\n",
    "plt.xlabel('Latitude')\n",
    "plt.ylabel('Cloudiness')\n",
    "print(f\"The r-squared is: {rvalue**2}\")\n",
    "plt.show()"
   ]
  },
  {
   "cell_type": "markdown",
   "metadata": {},
   "source": [
    "####  Southern Hemisphere - Cloudiness (%) vs. Latitude Linear Regression"
   ]
  },
  {
   "cell_type": "code",
   "execution_count": 187,
   "metadata": {},
   "outputs": [
    {
     "name": "stdout",
     "output_type": "stream",
     "text": [
      "The r-squared is: 0.004555516383165944\n"
     ]
    },
    {
     "data": {
      "image/png": "[encoded data removed]",
      "text/plain": [
       "<Figure size 432x288 with 1 Axes>"
      ]
     },
     "metadata": {
      "needs_background": "light"
     },
     "output_type": "display_data"
    }
   ],
   "source": [
    "#Southern Hemisphere Latitude vs. Cloudiness Linear Regression\n",
    "x_values = southern_hemisphere['Latitude']\n",
    "y_values = southern_hemisphere[\"Cloudiness(%)\"]\n",
    "(slope, intercept, rvalue, pvalue, stderr) = linregress(x_values, y_values)\n",
    "regress_values = x_values * slope + intercept\n",
    "line_eq = \"y = \" + str(round(slope,2)) + \"x + \" + str(round(intercept,2))\n",
    "plt.scatter(x_values,y_values)\n",
    "plt.plot(x_values,regress_values,\"r-\")\n",
    "plt.annotate(line_eq,(6,10),fontsize=15,color=\"red\")\n",
    "plt.xlabel('Latitude')\n",
    "plt.ylabel('Cloudiness')\n",
    "print(f\"The r-squared is: {rvalue**2}\")\n",
    "plt.show()"
   ]
  },
  {
   "cell_type": "code",
   "execution_count": null,
   "metadata": {},
   "outputs": [],
   "source": [
    "#These two linear regressions charting the cloudiness in the northern and southern hemispheres show no correllation.\n",
    "#Cloudiness is not related to the distance from the equator."
   ]
  },
  {
   "cell_type": "markdown",
   "metadata": {},
   "source": [
    "####  Northern Hemisphere - Wind Speed (mph) vs. Latitude Linear Regression"
   ]
  },
  {
   "cell_type": "code",
   "execution_count": 188,
   "metadata": {},
   "outputs": [
    {
     "name": "stdout",
     "output_type": "stream",
     "text": [
      "The r-squared is: 0.03645252351331924\n"
     ]
    },
    {
     "data": {
      "image/png": "[encoded data removed]",
      "text/plain": [
       "<Figure size 432x288 with 1 Axes>"
      ]
     },
     "metadata": {
      "needs_background": "light"
     },
     "output_type": "display_data"
    }
   ],
   "source": [
    "#Northern Hemisphere Latitude vs. Wind Speed Linear Regression\n",
    "x_values = northern_hemisphere['Latitude']\n",
    "y_values = northern_hemisphere[\"Wind Speed(mph)\"]\n",
    "(slope, intercept, rvalue, pvalue, stderr) = linregress(x_values, y_values)\n",
    "regress_values = x_values * slope + intercept\n",
    "line_eq = \"y = \" + str(round(slope,2)) + \"x + \" + str(round(intercept,2))\n",
    "plt.scatter(x_values,y_values)\n",
    "plt.plot(x_values,regress_values,\"r-\")\n",
    "plt.annotate(line_eq,(6,10),fontsize=15,color=\"red\")\n",
    "plt.xlabel('Latitude')\n",
    "plt.ylabel('Wind Speed')\n",
    "print(f\"The r-squared is: {rvalue**2}\")\n",
    "plt.show()"
   ]
  },
  {
   "cell_type": "markdown",
   "metadata": {},
   "source": [
    "####  Southern Hemisphere - Wind Speed (mph) vs. Latitude Linear Regression"
   ]
  },
  {
   "cell_type": "code",
   "execution_count": 189,
   "metadata": {},
   "outputs": [
    {
     "name": "stdout",
     "output_type": "stream",
     "text": [
      "The r-squared is: 0.09054418560416136\n"
     ]
    },
    {
     "data": {
      "image/png": "[encoded data removed]",
      "text/plain": [
       "<Figure size 432x288 with 1 Axes>"
      ]
     },
     "metadata": {
      "needs_background": "light"
     },
     "output_type": "display_data"
    }
   ],
   "source": [
    "#Southern Hemisphere Latitude vs. Wind Speed Linear Regression\n",
    "x_values = southern_hemisphere['Latitude']\n",
    "y_values = southern_hemisphere[\"Wind Speed(mph)\"]\n",
    "(slope, intercept, rvalue, pvalue, stderr) = linregress(x_values, y_values)\n",
    "regress_values = x_values * slope + intercept\n",
    "line_eq = \"y = \" + str(round(slope,2)) + \"x + \" + str(round(intercept,2))\n",
    "plt.scatter(x_values,y_values)\n",
    "plt.plot(x_values,regress_values,\"r-\")\n",
    "plt.annotate(line_eq,(6,10),fontsize=15,color=\"red\")\n",
    "plt.xlabel('Latitude')\n",
    "plt.ylabel('Wind Speed')\n",
    "print(f\"The r-squared is: {rvalue**2}\")\n",
    "plt.show()"
   ]
  },
  {
   "cell_type": "code",
   "execution_count": null,
   "metadata": {},
   "outputs": [],
   "source": [
    "#These two linear regressions charting the wind speed in the northern and southern hemispheres show no correllation.\n",
    "#The wind speed is not related to the distance from the equator."
   ]
  }
 ],
 "metadata": {
  "anaconda-cloud": {},
  "kernel_info": {
   "name": "python3"
  },
  "kernelspec": {
   "display_name": "Python 3",
   "language": "python",
   "name": "python3"
  },
  "language_info": {
   "codemirror_mode": {
    "name": "ipython",
    "version": 3
   },
   "file_extension": ".py",
   "mimetype": "text/x-python",
   "name": "python",
   "nbconvert_exporter": "python",
   "pygments_lexer": "ipython3",
   "version": "3.6.10"
  },
  "latex_envs": {
   "LaTeX_envs_menu_present": true,
   "autoclose": false,
   "autocomplete": true,
   "bibliofile": "biblio.bib",
   "cite_by": "apalike",
   "current_citInitial": 1,
   "eqLabelWithNumbers": true,
   "eqNumInitial": 1,
   "hotkeys": {
    "equation": "Ctrl-E",
    "itemize": "Ctrl-I"
   },
   "labels_anchors": false,
   "latex_user_defs": false,
   "report_style_numbering": false,
   "user_envs_cfg": false
  },
  "nteract": {
   "version": "0.12.3"
  }
 },
 "nbformat": 4,
 "nbformat_minor": 2
}
