{
 "cells": [
  {
   "cell_type": "markdown",
   "metadata": {},
   "source": [
    "# VacationPy\n",
    "----\n",
    "\n",
    "#### Note\n",
    "* Keep an eye on your API usage. Use https://developers.google.com/maps/reporting/gmp-reporting as reference for how to monitor your usage and billing.\n",
    "\n",
    "* Instructions have been included for each segment. You do not have to follow them exactly, but they are included to help you think through the steps."
   ]
  },
  {
   "cell_type": "code",
   "execution_count": 6,
   "metadata": {},
   "outputs": [],
   "source": [
    "# Dependencies and Setup\n",
    "import matplotlib.pyplot as plt\n",
    "import pandas as pd\n",
    "import numpy as np\n",
    "import requests\n",
    "import gmaps\n",
    "import os\n",
    "\n",
    "# Import API key\n",
    "from api_keys import g_key"
   ]
  },
  {
   "cell_type": "markdown",
   "metadata": {},
   "source": [
    "### Store Part I results into DataFrame\n",
    "* Load the csv exported in Part I to a DataFrame"
   ]
  },
  {
   "cell_type": "code",
   "execution_count": 7,
   "metadata": {},
   "outputs": [
    {
     "data": {
      "text/html": [
       "<div>\n",
       "<style scoped>\n",
       "    .dataframe tbody tr th:only-of-type {\n",
       "        vertical-align: middle;\n",
       "    }\n",
       "\n",
       "    .dataframe tbody tr th {\n",
       "        vertical-align: top;\n",
       "    }\n",
       "\n",
       "    .dataframe thead th {\n",
       "        text-align: right;\n",
       "    }\n",
       "</style>\n",
       "<table border=\"1\" class=\"dataframe\">\n",
       "  <thead>\n",
       "    <tr style=\"text-align: right;\">\n",
       "      <th></th>\n",
       "      <th>City ID</th>\n",
       "      <th>City</th>\n",
       "      <th>Latitude</th>\n",
       "      <th>Longitude</th>\n",
       "      <th>Max temperature(F)</th>\n",
       "      <th>Humidity(%)</th>\n",
       "      <th>Cloudiness(%)</th>\n",
       "      <th>Wind Speed(mph)</th>\n",
       "      <th>Country</th>\n",
       "      <th>Date</th>\n",
       "    </tr>\n",
       "  </thead>\n",
       "  <tbody>\n",
       "    <tr>\n",
       "      <th>0</th>\n",
       "      <td>0</td>\n",
       "      <td>Albany</td>\n",
       "      <td>42.60</td>\n",
       "      <td>-73.97</td>\n",
       "      <td>59.00</td>\n",
       "      <td>94</td>\n",
       "      <td>0</td>\n",
       "      <td>8.97</td>\n",
       "      <td>US</td>\n",
       "      <td>1601521684</td>\n",
       "    </tr>\n",
       "    <tr>\n",
       "      <th>1</th>\n",
       "      <td>1</td>\n",
       "      <td>Marzuq</td>\n",
       "      <td>14.40</td>\n",
       "      <td>46.47</td>\n",
       "      <td>72.50</td>\n",
       "      <td>41</td>\n",
       "      <td>0</td>\n",
       "      <td>3.58</td>\n",
       "      <td>YE</td>\n",
       "      <td>1601522201</td>\n",
       "    </tr>\n",
       "    <tr>\n",
       "      <th>2</th>\n",
       "      <td>2</td>\n",
       "      <td>Pevek</td>\n",
       "      <td>69.70</td>\n",
       "      <td>170.31</td>\n",
       "      <td>37.09</td>\n",
       "      <td>80</td>\n",
       "      <td>0</td>\n",
       "      <td>7.18</td>\n",
       "      <td>RU</td>\n",
       "      <td>1601521881</td>\n",
       "    </tr>\n",
       "    <tr>\n",
       "      <th>3</th>\n",
       "      <td>3</td>\n",
       "      <td>Rawson</td>\n",
       "      <td>-43.30</td>\n",
       "      <td>-65.10</td>\n",
       "      <td>51.58</td>\n",
       "      <td>44</td>\n",
       "      <td>11</td>\n",
       "      <td>24.36</td>\n",
       "      <td>AR</td>\n",
       "      <td>1601522033</td>\n",
       "    </tr>\n",
       "    <tr>\n",
       "      <th>4</th>\n",
       "      <td>4</td>\n",
       "      <td>Rikitea</td>\n",
       "      <td>-23.12</td>\n",
       "      <td>-134.97</td>\n",
       "      <td>72.28</td>\n",
       "      <td>82</td>\n",
       "      <td>85</td>\n",
       "      <td>24.70</td>\n",
       "      <td>PF</td>\n",
       "      <td>1601521864</td>\n",
       "    </tr>\n",
       "  </tbody>\n",
       "</table>\n",
       "</div>"
      ],
      "text/plain": [
       "   City ID     City  Latitude  Longitude  Max temperature(F)  Humidity(%)  \\\n",
       "0        0   Albany     42.60     -73.97               59.00           94   \n",
       "1        1   Marzuq     14.40      46.47               72.50           41   \n",
       "2        2    Pevek     69.70     170.31               37.09           80   \n",
       "3        3   Rawson    -43.30     -65.10               51.58           44   \n",
       "4        4  Rikitea    -23.12    -134.97               72.28           82   \n",
       "\n",
       "   Cloudiness(%)  Wind Speed(mph) Country        Date  \n",
       "0              0             8.97      US  1601521684  \n",
       "1              0             3.58      YE  1601522201  \n",
       "2              0             7.18      RU  1601521881  \n",
       "3             11            24.36      AR  1601522033  \n",
       "4             85            24.70      PF  1601521864  "
      ]
     },
     "execution_count": 7,
     "metadata": {},
     "output_type": "execute_result"
    }
   ],
   "source": [
    "world_weather_csv = \"worldcity_weather.csv\"\n",
    "world_weather = pd.read_csv(world_weather_csv)\n",
    "world_weather.head()"
   ]
  },
  {
   "cell_type": "markdown",
   "metadata": {},
   "source": [
    "### Humidity Heatmap\n",
    "* Configure gmaps.\n",
    "* Use the Lat and Lng as locations and Humidity as the weight.\n",
    "* Add Heatmap layer to map."
   ]
  },
  {
   "cell_type": "code",
   "execution_count": 9,
   "metadata": {},
   "outputs": [],
   "source": [
    "# Access maps with unique API key\n",
    "gmaps.configure(api_key=g_key)"
   ]
  },
  {
   "cell_type": "code",
   "execution_count": 16,
   "metadata": {},
   "outputs": [
    {
     "data": {
      "application/vnd.jupyter.widget-view+json": {
       "model_id": "36e2289fe191480e9fd0a8f47d652bfe",
       "version_major": 2,
       "version_minor": 0
      },
      "text/plain": [
       "Figure(layout=FigureLayout(height='420px'))"
      ]
     },
     "metadata": {},
     "output_type": "display_data"
    }
   ],
   "source": [
    "locations = world_weather[[\"Latitude\", \"Longitude\"]]\n",
    "humidity = world_weather[\"Humidity(%)\"].astype(float)\n",
    "\n",
    "# Plot Heatmap\n",
    "fig = gmaps.figure()\n",
    "\n",
    "# Create heat layer\n",
    "heat_layer = gmaps.heatmap_layer(locations, weights=humidity, \n",
    "                                 dissipating=False, max_intensity=50,\n",
    "                                 point_radius=2)\n",
    "# Add layer\n",
    "fig.add_layer(heat_layer)\n",
    "\n",
    "# Display figure\n",
    "fig"
   ]
  },
  {
   "cell_type": "markdown",
   "metadata": {},
   "source": [
    "### Create new DataFrame fitting weather criteria\n",
    "* Narrow down the cities to fit weather conditions.\n",
    "* Drop any rows will null values."
   ]
  },
  {
   "cell_type": "code",
   "execution_count": 23,
   "metadata": {},
   "outputs": [
    {
     "data": {
      "text/plain": [
       "City ID               15\n",
       "City                  15\n",
       "Latitude              15\n",
       "Longitude             15\n",
       "Max temperature(F)    15\n",
       "Humidity(%)           15\n",
       "Cloudiness(%)         15\n",
       "Wind Speed(mph)       15\n",
       "Country               15\n",
       "Date                  15\n",
       "dtype: int64"
      ]
     },
     "execution_count": 23,
     "metadata": {},
     "output_type": "execute_result"
    }
   ],
   "source": [
    "low_humidity = world_weather.loc[world_weather[\"Humidity(%)\"] < 50, :]\n",
    "humidityindex = low_humidity.index\n",
    "ok_weather = world_weather.drop(humidityindex).reset_index(drop=True)\n",
    "\n",
    "cool_temp = ok_weather.loc[ok_weather[\"Max temperature(F)\"] < 80, :]\n",
    "tempindex = cool_temp.index\n",
    "good_weather = ok_weather.drop(tempindex).reset_index(drop=True)\n",
    "\n",
    "low_wind = good_weather.loc[good_weather[\"Wind Speed(mph)\"] < 10, :]\n",
    "windindex = low_wind.index\n",
    "great_weather = good_weather.drop(windindex).reset_index(drop=True)\n",
    "\n",
    "low_clouds = great_weather.loc[great_weather[\"Cloudiness(%)\"] < 25, :]\n",
    "cloudindex = low_clouds.index\n",
    "fantastic_weather = great_weather.drop(cloudindex).reset_index(drop=True)\n",
    "\n",
    "fantastic_weather.count()"
   ]
  },
  {
   "cell_type": "markdown",
   "metadata": {},
   "source": [
    "### Hotel Map\n",
    "* Store into variable named `hotel_df`.\n",
    "* Add a \"Hotel Name\" column to the DataFrame.\n",
    "* Set parameters to search for hotels with 5000 meters.\n",
    "* Hit the Google Places API for each city's coordinates.\n",
    "* Store the first Hotel result into the DataFrame.\n",
    "* Plot markers on top of the heatmap."
   ]
  },
  {
   "cell_type": "code",
   "execution_count": 25,
   "metadata": {},
   "outputs": [
    {
     "data": {
      "text/html": [
       "<div>\n",
       "<style scoped>\n",
       "    .dataframe tbody tr th:only-of-type {\n",
       "        vertical-align: middle;\n",
       "    }\n",
       "\n",
       "    .dataframe tbody tr th {\n",
       "        vertical-align: top;\n",
       "    }\n",
       "\n",
       "    .dataframe thead th {\n",
       "        text-align: right;\n",
       "    }\n",
       "</style>\n",
       "<table border=\"1\" class=\"dataframe\">\n",
       "  <thead>\n",
       "    <tr style=\"text-align: right;\">\n",
       "      <th></th>\n",
       "      <th>City ID</th>\n",
       "      <th>City</th>\n",
       "      <th>Latitude</th>\n",
       "      <th>Longitude</th>\n",
       "      <th>Max temperature(F)</th>\n",
       "      <th>Humidity(%)</th>\n",
       "      <th>Cloudiness(%)</th>\n",
       "      <th>Wind Speed(mph)</th>\n",
       "      <th>Country</th>\n",
       "      <th>Date</th>\n",
       "      <th>Hotel Name</th>\n",
       "    </tr>\n",
       "  </thead>\n",
       "  <tbody>\n",
       "    <tr>\n",
       "      <th>0</th>\n",
       "      <td>23</td>\n",
       "      <td>Mataram</td>\n",
       "      <td>-8.58</td>\n",
       "      <td>116.12</td>\n",
       "      <td>89.60</td>\n",
       "      <td>52</td>\n",
       "      <td>40</td>\n",
       "      <td>16.11</td>\n",
       "      <td>ID</td>\n",
       "      <td>1601522060</td>\n",
       "      <td></td>\n",
       "    </tr>\n",
       "    <tr>\n",
       "      <th>1</th>\n",
       "      <td>54</td>\n",
       "      <td>Port Blair</td>\n",
       "      <td>11.67</td>\n",
       "      <td>92.75</td>\n",
       "      <td>82.96</td>\n",
       "      <td>78</td>\n",
       "      <td>100</td>\n",
       "      <td>17.34</td>\n",
       "      <td>IN</td>\n",
       "      <td>1601522019</td>\n",
       "      <td></td>\n",
       "    </tr>\n",
       "    <tr>\n",
       "      <th>2</th>\n",
       "      <td>65</td>\n",
       "      <td>Kavaratti</td>\n",
       "      <td>10.57</td>\n",
       "      <td>72.64</td>\n",
       "      <td>81.25</td>\n",
       "      <td>77</td>\n",
       "      <td>39</td>\n",
       "      <td>12.35</td>\n",
       "      <td>IN</td>\n",
       "      <td>1601522014</td>\n",
       "      <td></td>\n",
       "    </tr>\n",
       "    <tr>\n",
       "      <th>3</th>\n",
       "      <td>85</td>\n",
       "      <td>Gushikawa</td>\n",
       "      <td>26.35</td>\n",
       "      <td>127.87</td>\n",
       "      <td>84.20</td>\n",
       "      <td>66</td>\n",
       "      <td>40</td>\n",
       "      <td>12.75</td>\n",
       "      <td>JP</td>\n",
       "      <td>1601522229</td>\n",
       "      <td></td>\n",
       "    </tr>\n",
       "    <tr>\n",
       "      <th>4</th>\n",
       "      <td>157</td>\n",
       "      <td>Itoman</td>\n",
       "      <td>26.12</td>\n",
       "      <td>127.67</td>\n",
       "      <td>84.20</td>\n",
       "      <td>65</td>\n",
       "      <td>40</td>\n",
       "      <td>16.11</td>\n",
       "      <td>JP</td>\n",
       "      <td>1601522250</td>\n",
       "      <td></td>\n",
       "    </tr>\n",
       "  </tbody>\n",
       "</table>\n",
       "</div>"
      ],
      "text/plain": [
       "   City ID        City  Latitude  Longitude  Max temperature(F)  Humidity(%)  \\\n",
       "0       23     Mataram     -8.58     116.12               89.60           52   \n",
       "1       54  Port Blair     11.67      92.75               82.96           78   \n",
       "2       65   Kavaratti     10.57      72.64               81.25           77   \n",
       "3       85   Gushikawa     26.35     127.87               84.20           66   \n",
       "4      157      Itoman     26.12     127.67               84.20           65   \n",
       "\n",
       "   Cloudiness(%)  Wind Speed(mph) Country        Date Hotel Name  \n",
       "0             40            16.11      ID  1601522060             \n",
       "1            100            17.34      IN  1601522019             \n",
       "2             39            12.35      IN  1601522014             \n",
       "3             40            12.75      JP  1601522229             \n",
       "4             40            16.11      JP  1601522250             "
      ]
     },
     "execution_count": 25,
     "metadata": {},
     "output_type": "execute_result"
    }
   ],
   "source": [
    "fantastic_weather['Hotel Name'] = \"\"\n",
    "fantastic_weather.head()"
   ]
  },
  {
   "cell_type": "code",
   "execution_count": null,
   "metadata": {},
   "outputs": [],
   "source": []
  },
  {
   "cell_type": "code",
   "execution_count": null,
   "metadata": {},
   "outputs": [],
   "source": [
    "# NOTE: Do not change any of the code in this cell\n",
    "\n",
    "# Using the template add the hotel marks to the heatmap\n",
    "info_box_template = \"\"\"\n",
    "<dl>\n",
    "<dt>Name</dt><dd>{Hotel Name}</dd>\n",
    "<dt>City</dt><dd>{City}</dd>\n",
    "<dt>Country</dt><dd>{Country}</dd>\n",
    "</dl>\n",
    "\"\"\"\n",
    "# Store the DataFrame Row\n",
    "# NOTE: be sure to update with your DataFrame name\n",
    "hotel_info = [info_box_template.format(**row) for index, row in hotel_df.iterrows()]\n",
    "locations = hotel_df[[\"Lat\", \"Lng\"]]"
   ]
  },
  {
   "cell_type": "code",
   "execution_count": null,
   "metadata": {},
   "outputs": [],
   "source": [
    "# Add marker layer ontop of heat map\n",
    "\n",
    "\n",
    "# Display figure\n"
   ]
  },
  {
   "cell_type": "code",
   "execution_count": null,
   "metadata": {},
   "outputs": [],
   "source": []
  }
 ],
 "metadata": {
  "kernelspec": {
   "display_name": "Python 3",
   "language": "python",
   "name": "python3"
  },
  "language_info": {
   "codemirror_mode": {
    "name": "ipython",
    "version": 3
   },
   "file_extension": ".py",
   "mimetype": "text/x-python",
   "name": "python",
   "nbconvert_exporter": "python",
   "pygments_lexer": "ipython3",
   "version": "3.6.10"
  },
  "latex_envs": {
   "LaTeX_envs_menu_present": true,
   "autoclose": false,
   "autocomplete": true,
   "bibliofile": "biblio.bib",
   "cite_by": "apalike",
   "current_citInitial": 1,
   "eqLabelWithNumbers": true,
   "eqNumInitial": 1,
   "hotkeys": {
    "equation": "Ctrl-E",
    "itemize": "Ctrl-I"
   },
   "labels_anchors": false,
   "latex_user_defs": false,
   "report_style_numbering": false,
   "user_envs_cfg": false
  }
 },
 "nbformat": 4,
 "nbformat_minor": 4
}
